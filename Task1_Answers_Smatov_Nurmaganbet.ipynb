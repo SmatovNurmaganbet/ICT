{
 "cells": [
  {
   "cell_type": "code",
   "execution_count": 5,
   "metadata": {},
   "outputs": [
    {
     "name": "stdout",
     "output_type": "stream",
     "text": [
      "Name: Nurmaganbet\n",
      "Email: n_smatov@kbtu.kz\n"
     ]
    }
   ],
   "source": [
    "#1\n",
    "def personal_details():\n",
    "    name, email= \"Nurmaganbet\", \"n_smatov@kbtu.kz\"\n",
    "    print(\"Name: {}\\nEmail: {}\".format(name, email))\n",
    "personal_details()"
   ]
  },
  {
   "cell_type": "code",
   "execution_count": 6,
   "metadata": {},
   "outputs": [
    {
     "name": "stdout",
     "output_type": "stream",
     "text": [
      "nurnma\n",
      "Hello nurnma\n"
     ]
    }
   ],
   "source": [
    "#2\n",
    "usertext = input(\"\")\n",
    "print(\"Hello\", usertext)"
   ]
  },
  {
   "cell_type": "code",
   "execution_count": 1,
   "metadata": {},
   "outputs": [
    {
     "name": "stdout",
     "output_type": "stream",
     "text": [
      "2.5\n",
      "2.5\n",
      "The area of the room is 6.25 square meters\n"
     ]
    }
   ],
   "source": [
    "#3\n",
    "a=float(input())\n",
    "b=float(input())\n",
    "c=a*b\n",
    "d=round(c,2)\n",
    "print(\"The area of the room is \" + str(d) + \" square meters\")"
   ]
  },
  {
   "cell_type": "code",
   "execution_count": 39,
   "metadata": {},
   "outputs": [
    {
     "name": "stdout",
     "output_type": "stream",
     "text": [
      "1000000\n",
      "50000\n",
      "The area of the field is 1147842.06 acres\n"
     ]
    }
   ],
   "source": [
    "#4\n",
    "a=float(input())\n",
    "b=float(input())\n",
    "c=a*b/43560\n",
    "d=round(c,2)\n",
    "print(\"The area of the field is \" + str(d) + \" acres\")"
   ]
  },
  {
   "cell_type": "code",
   "execution_count": 2,
   "metadata": {},
   "outputs": [
    {
     "name": "stdout",
     "output_type": "stream",
     "text": [
      "Enter a little bottle: 5\n",
      "Enter a big bottle: 6\n",
      "Sum is equal to: 2.00 $.\n"
     ]
    }
   ],
   "source": [
    "#5\n",
    "x = float(input('Enter a little bottle: '))\n",
    "y = float(input('Enter a big bottle: '))\n",
    "sum = x*0.10+y*0.25\n",
    "print(\"Sum is equal to: %.2f $.\" % sum)"
   ]
  },
  {
   "cell_type": "code",
   "execution_count": 49,
   "metadata": {},
   "outputs": [
    {
     "name": "stdout",
     "output_type": "stream",
     "text": [
      "What was the value of the bill?\n",
      "10\n",
      "How was the service?\n",
      "good\n",
      "10.0\n",
      "1.7999999999999998\n",
      "1.4000000000000001\n",
      "13.200000000000001\n"
     ]
    }
   ],
   "source": [
    "#6\n",
    "print(\"What was the value of the bill?\")\n",
    "bill = float(input())\n",
    "\n",
    "print(\"How was the service?\")\n",
    "service = input()\n",
    "if service == \"good\":\n",
    "    percentage = 0.18\n",
    "else:\n",
    "    percentage = 0.10\n",
    "nalog = bill * 0.14\n",
    "tip = bill * percentage\n",
    "res = bill + tip + nalog\n",
    "print(bill)\n",
    "print(tip)\n",
    "print(nalog)\n",
    "print(res)"
   ]
  },
  {
   "cell_type": "code",
   "execution_count": 3,
   "metadata": {},
   "outputs": [
    {
     "name": "stdout",
     "output_type": "stream",
     "text": [
      "Enter a positive integer: 3\n",
      "The sum of the first 3 positive integers 6.0\n"
     ]
    }
   ],
   "source": [
    "#7\n",
    "n = int(input(\"Enter a positive integer: \"))\n",
    "total = n * (n+1) / 2\n",
    "print(\"The sum of the first\",n,\"positive integers\",total)"
   ]
  },
  {
   "cell_type": "code",
   "execution_count": 53,
   "metadata": {},
   "outputs": [
    {
     "name": "stdout",
     "output_type": "stream",
     "text": [
      "Enter your number of widgets: 5\n",
      "Enter your number of Gizmos: 10\n",
      "\n",
      "The total weight of the order is 1495\n"
     ]
    }
   ],
   "source": [
    "#8\n",
    "numOfWidgets = input (\"Enter your number of widgets: \")\n",
    "numofGizmos = input (\"Enter your number of Gizmos: \")\n",
    "\n",
    "converts1 = int(numOfWidgets)\n",
    "convert2 = int(numofGizmos)\n",
    "\n",
    "weightOfWidgets = converts1 * 75\n",
    "weightOfGizmos = convert2 * 112\n",
    "\n",
    "totalWeight = weightOfGizmos + weightOfWidgets\n",
    "\n",
    "convert3 = str(totalWeight)\n",
    "print (\"\")\n",
    "print (\"The total weight of the order is \" + convert3)"
   ]
  },
  {
   "cell_type": "code",
   "execution_count": 55,
   "metadata": {},
   "outputs": [
    {
     "name": "stdout",
     "output_type": "stream",
     "text": [
      "What is your starting amount?\n",
      "100\n",
      "104.0\n",
      "108.16\n",
      "112.49\n"
     ]
    }
   ],
   "source": [
    "#9\n",
    "print(\"What is your starting amount?\")\n",
    "amount = float(input())\n",
    "interes = 4\n",
    "future_value_1 = amount*((1+(0.01*interes)) ** 1)\n",
    "future_value_2 = amount*((1+(0.01*interes)) ** 2)\n",
    "future_value_3 = amount*((1+(0.01*interes)) ** 3)\n",
    "print(round(future_value_1,2))\n",
    "print(round(future_value_2,2))\n",
    "print(round(future_value_3,2))"
   ]
  },
  {
   "cell_type": "code",
   "execution_count": 1,
   "metadata": {},
   "outputs": [
    {
     "name": "stdout",
     "output_type": "stream",
     "text": [
      "Enter a and b please\n",
      "9\n",
      "2\n",
      "Sum: 11.0\n",
      "Substraction: 7.0\n",
      "Product: 18.0\n",
      "Quotient: 4.5\n",
      "Remainder: 1.0\n",
      "Log10: 0.9542425094393249\n",
      "Log10 ab: 1.255272505103306\n",
      "b pow of a: 81.0\n"
     ]
    }
   ],
   "source": [
    "#10\n",
    "import math\n",
    "\n",
    "print(\"Enter a and b please\")\n",
    "a = float(input())\n",
    "b = float(input())\n",
    "sum = a + b\n",
    "substr = a - b\n",
    "prod = a * b\n",
    "quot = a / b\n",
    "remainder = a % b\n",
    "math.log10(a)\n",
    "log10_ab = math.log10(a)+math.log10(b)\n",
    "power_of_ab = a**b\n",
    "print(\"Sum: {}\\nSubstraction: {}\\nProduct: {}\\nQuotient: {}\\nRemainder: {}\\nLog10: {}\\nLog10 ab: {}\\nb pow of a: {}\".format(sum, substr, prod, quot, remainder, math.log10(a), log10_ab, power_of_ab))"
   ]
  },
  {
   "cell_type": "code",
   "execution_count": 8,
   "metadata": {},
   "outputs": [
    {
     "name": "stdout",
     "output_type": "stream",
     "text": [
      "40 miles per gallon are 5.880364583333333 liters per 100 kilometers.\n",
      "20 miles per gallon are 11.760729166666666 liters per 100 kilometers.\n",
      "30 miles per gallon are 7.84048611111111 liters per 100 kilometers.\n"
     ]
    }
   ],
   "source": [
    "#11\n",
    "def convert_mileage(miles_per_gallon):\n",
    "    liters_per_gallon = 3.785411784\n",
    "    kilometers_per_mile = 1.609344\n",
    "    liters_per_100 = (100*liters_per_gallon)/(kilometers_per_mile*miles_per_gallon)\n",
    "    print (miles_per_gallon,'miles per gallon are',liters_per_100,'liters per 100 kilometers.')\n",
    "\n",
    "convert_mileage(40)\n",
    "convert_mileage(20)\n",
    "convert_mileage(30)\n"
   ]
  },
  {
   "cell_type": "code",
   "execution_count": 84,
   "metadata": {},
   "outputs": [
    {
     "name": "stdout",
     "output_type": "stream",
     "text": [
      "Enter the latitude and longitude of two points on the Earth in degrees:\n",
      " Latitude 1: 1\n",
      " Latitude 2: 2\n",
      " Longitude 1: 3\n",
      " Longitude 2: 4\n",
      "Distance is:  157.22543203807288 Kilometers\n"
     ]
    }
   ],
   "source": [
    "#12\n",
    "from math import radians, cos, sin, asin, sqrt\n",
    "\n",
    "print(\"Enter the latitude and longitude of two points on the Earth in degrees:\")\n",
    "lat1 = float(input(\" Latitude 1: \"))\n",
    "lat2 = float(input(\" Latitude 2: \"))\n",
    "lon1 = float(input(\" Longitude 1: \"))\n",
    "lon2 = float(input(\" Longitude 2: \"))\n",
    "\n",
    "lon1 = radians(lon1)\n",
    "lon2 = radians(lon2)\n",
    "lat1 = radians(lat1)\n",
    "lat2 = radians(lat2)\n",
    " \n",
    "dlon = lon2 - lon1 \n",
    "dlat = lat2 - lat1 \n",
    "a = sin(dlat/2)**2 + cos(lat1) * cos(lat2) * sin(dlon/2)**2\n",
    "c = 2 * asin(sqrt(a)) \n",
    "r = 6371\n",
    "\n",
    "print(\"Distance is: \",c*r,\"Kilometers\")"
   ]
  },
  {
   "cell_type": "code",
   "execution_count": 6,
   "metadata": {},
   "outputs": [
    {
     "name": "stdout",
     "output_type": "stream",
     "text": [
      "Enter the number of cents: 108\n",
      "0 toonies\n",
      "1 loonies\n",
      "0 quarters\n",
      "0 dimes\n",
      "1 nickles\n",
      "3 pennies\n"
     ]
    }
   ],
   "source": [
    "#13\n",
    "cents = int(input('Enter the number of cents: '))\n",
    "print(cents//200, \"toonies\")\n",
    "cents = cents%200\n",
    "print(cents//100, \"loonies\")\n",
    "cents = cents%100\n",
    "print(cents//25, \"quarters\")\n",
    "cents = cents%25\n",
    "print(cents//10, \"dimes\")\n",
    "cents = cents%10\n",
    "print(cents//5, \"nickles\")\n",
    "cents = cents%5\n",
    "print(cents//1, \"pennies\")"
   ]
  },
  {
   "cell_type": "code",
   "execution_count": 93,
   "metadata": {},
   "outputs": [
    {
     "name": "stdout",
     "output_type": "stream",
     "text": [
      "Input your height: \n",
      "Feet: 1\n",
      "Inches: 1\n",
      "Your height is : 33 cm.\n"
     ]
    }
   ],
   "source": [
    "#14\n",
    "print(\"Input your height: \")\n",
    "h_ft = int(input(\"Feet: \"))\n",
    "h_inch = int(input(\"Inches: \"))\n",
    "\n",
    "h_inch += h_ft * 12\n",
    "h_cm = round(h_inch * 2.54, 1)\n",
    "\n",
    "print(\"Your height is : %d cm.\" % h_cm)\n"
   ]
  },
  {
   "cell_type": "code",
   "execution_count": 102,
   "metadata": {},
   "outputs": [
    {
     "name": "stdout",
     "output_type": "stream",
     "text": [
      "Input distance in feet: 1\n",
      "The distance in inches is 12 inches.\n",
      "The distance in yards is 0.33 yards.\n",
      "The distance in miles is 0.00 miles.\n",
      "12 0.3333333333333333 0.0001893939393939394\n"
     ]
    }
   ],
   "source": [
    "#15\n",
    "d_ft = int(input(\"Input distance in feet: \"))\n",
    "d_inches = d_ft * 12\n",
    "d_yards = d_ft / 3.0\n",
    "d_miles = d_ft / 5280.0\n",
    "print(\"The distance in inches is %i inches.\" % d_inches)\n",
    "print(\"The distance in yards is %.2f yards.\" % d_yards)\n",
    "print(\"The distance in miles is %.2f miles.\" % d_miles)\n",
    "\n",
    "print(d_inches, d_yards, d_miles)"
   ]
  },
  {
   "cell_type": "code",
   "execution_count": 104,
   "metadata": {},
   "outputs": [
    {
     "name": "stdout",
     "output_type": "stream",
     "text": [
      "Input the radius of the circle : 6\n",
      "The area of the circle with radius 6.0 is: 113.09733552923255\n",
      "The volume of the sphere is:  904.7786842338603\n"
     ]
    }
   ],
   "source": [
    "#16\n",
    "from math import pi\n",
    "\n",
    "r = float(input (\"Input the radius of the circle : \"))\n",
    "V= 4.0/3.0*pi* r**3\n",
    "print (\"The area of the circle with radius \" + str(r) + \" is: \" + str(pi * r**2))\n",
    "print('The volume of the sphere is: ',V)"
   ]
  },
  {
   "cell_type": "code",
   "execution_count": 1,
   "metadata": {},
   "outputs": [
    {
     "name": "stdout",
     "output_type": "stream",
     "text": [
      "Enter amount of water in milliliters: 1000\n",
      "Enter amount of temperature increase (degrees Celsius): 20\n",
      "Enter electricity cost per unit: 100\n",
      "Amount of energy needed  83720.0 Joules, which will cost 2.32\n"
     ]
    }
   ],
   "source": [
    "#17\n",
    "heat_capacity = 4.186\n",
    "j_to_kwh = 2.777e-7\n",
    "volume = float(input(\"Enter amount of water in milliliters: \"))\n",
    "temp = float(input(\"Enter amount of temperature increase (degrees Celsius): \"))\n",
    "price = float(input(\"Enter electricity cost per unit: \"))\n",
    "\n",
    "energy = volume * temp * heat_capacity\n",
    "kwh = energy * j_to_kwh\n",
    "cost = kwh * price \n",
    "\n",
    "print(\"Amount of energy needed \",round(energy,2),\"Joules, which will cost\", round(cost,2))"
   ]
  },
  {
   "cell_type": "code",
   "execution_count": 1,
   "metadata": {},
   "outputs": [
    {
     "name": "stdout",
     "output_type": "stream",
     "text": [
      "Height of cylinder: 1\n",
      "Radius of cylinder: 2\n",
      "Volume is:  12.566370614359172\n",
      "Surface Area is:  37.69911184307752\n"
     ]
    }
   ],
   "source": [
    "#18\n",
    "from math import pi\n",
    "\n",
    "height = float(input('Height of cylinder: '))\n",
    "radian = float(input('Radius of cylinder: '))\n",
    "volume = pi * radian * radian * height\n",
    "sur_area = ((2*pi*radian) * height) + ((pi*radian**2)*2)\n",
    "print(\"Volume is: \", volume)\n",
    "print(\"Surface Area is: \", sur_area)\n"
   ]
  },
  {
   "cell_type": "code",
   "execution_count": 2,
   "metadata": {},
   "outputs": [
    {
     "name": "stdout",
     "output_type": "stream",
     "text": [
      "Height from which object is dropped (in meters): 10\n",
      "Object will hit the ground at 14.00 m/s.\n"
     ]
    }
   ],
   "source": [
    "#19\n",
    "from math import sqrt\n",
    "\n",
    "gravity = 9.8  \n",
    "height  = float(input(\"Height from which object is dropped (in meters): \"))\n",
    "velocity = sqrt(2 * gravity * height)\n",
    "\n",
    "print(\"Object will hit the ground at %.2f m/s.\" % velocity)"
   ]
  },
  {
   "cell_type": "code",
   "execution_count": 7,
   "metadata": {},
   "outputs": [
    {
     "name": "stdout",
     "output_type": "stream",
     "text": [
      "Enter P:\n",
      "20000000\n",
      "Enter V:\n",
      "12\n",
      "Enter T:\n",
      "20\n",
      "Enter P: 20000000.0\n",
      "Enter V: 0.012\n",
      "Enter T: 293.15\n",
      "Mol equal to: 98.47167447923152\n"
     ]
    }
   ],
   "source": [
    "#20\n",
    "print(\"Enter P:\")\n",
    "P = float(input())\n",
    "print(\"Enter V:\")\n",
    "V = float(input())\n",
    "# V = V * pow(10,-3)\n",
    "V = V * 10**-3\n",
    "R = 8.314\n",
    "print(\"Enter T:\")\n",
    "T_kelvin = float(input())+ 273.15\n",
    "# T_fahrenheit = float(input())\n",
    "# fahrenheit = (T_fahrenheit * 1.8) + 32\n",
    "n = (P*V)/(R*T_kelvin)\n",
    "print(\"Enter P: {}\\nEnter V: {}\\nEnter T: {}\\nMol equal to: {}\".format(P, V, T_kelvin, n))\n",
    "# print(\"Enter P: {}\\nEnter V: {}\\nEnter T: {}\\nMol equal to: {}\".format(P, V, T_fahrenheit, n))"
   ]
  },
  {
   "cell_type": "code",
   "execution_count": 106,
   "metadata": {},
   "outputs": [
    {
     "name": "stdout",
     "output_type": "stream",
     "text": [
      "Input the base : 1\n",
      "Input the height : 2\n",
      "area =  1.0\n"
     ]
    }
   ],
   "source": [
    "#21\n",
    "b = int(input(\"Input the base : \"))\n",
    "h = int(input(\"Input the height : \"))\n",
    "area = b*h/2\n",
    "print(\"area = \", area)"
   ]
  },
  {
   "cell_type": "code",
   "execution_count": 3,
   "metadata": {},
   "outputs": [
    {
     "name": "stdout",
     "output_type": "stream",
     "text": [
      "Enter first side: 5\n",
      "Enter second side: 6\n",
      "Enter third side: 7\n",
      "The area of the triangle is 14.70\n"
     ]
    }
   ],
   "source": [
    "#22\n",
    "a = float(input('Enter first side: '))\n",
    "b = float(input('Enter second side: '))\n",
    "c = float(input('Enter third side: '))\n",
    "\n",
    "s = (a + b + c) / 2\n",
    "\n",
    "area = (s*(s-a)*(s-b)*(s-c)) ** 0.5\n",
    "print('The area of the triangle is %0.2f' %area)"
   ]
  },
  {
   "cell_type": "code",
   "execution_count": 2,
   "metadata": {},
   "outputs": [
    {
     "name": "stdout",
     "output_type": "stream",
     "text": [
      "Enter the length of each side of Polygon (in meters): 2\n",
      "Enter the number of sides: 5\n",
      "The area of Polygon is 6.88 \n"
     ]
    }
   ],
   "source": [
    "#23\n",
    "from math import tan,pi\n",
    "\n",
    "gravity = 9.8  \n",
    "length = float(input(\"Enter the length of each side of Polygon (in meters): \"))\n",
    "number = int(input(\"Enter the number of sides: \"))\n",
    " \n",
    "area = (number * length ** 2)/(4 * tan(pi/number))\n",
    "\n",
    "print(\"The area of Polygon is %.2f \" % area)"
   ]
  },
  {
   "cell_type": "code",
   "execution_count": 6,
   "metadata": {},
   "outputs": [
    {
     "name": "stdout",
     "output_type": "stream",
     "text": [
      "Enter number of Days: 86400\n",
      "Enter number of Hours: 2\n",
      "Enter number of Minutes: 2\n",
      "Enter number of Seconds: 2\n",
      "Total number of seconds:  7464967322\n"
     ]
    }
   ],
   "source": [
    "#24\n",
    "seconds_per_minute = 60\n",
    "seconds_per_hour = 3600\n",
    "seconds_per_day = 86400\n",
    "\n",
    "days = int(input(\"Enter number of Days: \"))\n",
    "hours = int(input(\"Enter number of Hours: \"))\n",
    "minutes = int(input(\"Enter number of Minutes: \"))\n",
    "seconds = int(input(\"Enter number of Seconds: \"))\n",
    "\n",
    "total_seconds = days * seconds_per_day\n",
    "total_seconds = total_seconds + ( hours * seconds_per_hour)\n",
    "total_seconds = total_seconds + ( minutes * seconds_per_minute)\n",
    "total_seconds = total_seconds + seconds\n",
    "\n",
    "print(\"Total number of seconds: \",\"%d\"%(total_seconds))"
   ]
  },
  {
   "cell_type": "code",
   "execution_count": 10,
   "metadata": {},
   "outputs": [
    {
     "name": "stdout",
     "output_type": "stream",
     "text": [
      "Enter number of seconds: 5\n",
      "The duration is:  00:00:00:05\n"
     ]
    }
   ],
   "source": [
    "#25\n",
    "seconds_per_minute = 60\n",
    "seconds_per_hour = 3600\n",
    "seconds_per_day = 86400\n",
    "\n",
    "seconds = int(input(\"Enter number of seconds: \"))\n",
    "\n",
    "days = seconds / seconds_per_day\n",
    "seconds = seconds % seconds_per_day\n",
    " \n",
    "hours = seconds / seconds_per_hour\n",
    "seconds = seconds % seconds_per_hour\n",
    " \n",
    "minutes = seconds / seconds_per_minute\n",
    "seconds = seconds % seconds_per_minute\n",
    " \n",
    "print(\"The duration is: \",\"%d:%02d:%02d:%02d\"%(days,hours,minutes,seconds))"
   ]
  },
  {
   "cell_type": "code",
   "execution_count": 109,
   "metadata": {},
   "outputs": [
    {
     "name": "stdout",
     "output_type": "stream",
     "text": [
      "Local current time : Sat Sep  5 22:09:03 2020\n"
     ]
    }
   ],
   "source": [
    "#26\n",
    "import time;\n",
    "\n",
    "localtime = time.asctime(time.localtime(time.time()))\n",
    "print (\"Local current time :\", localtime)"
   ]
  },
  {
   "cell_type": "code",
   "execution_count": 3,
   "metadata": {},
   "outputs": [
    {
     "name": "stdout",
     "output_type": "stream",
     "text": [
      "Enter your height in Centimeters: 180\n",
      "Enter your weight in Kg: 100\n",
      "Your Body Mass Index is:  30\n"
     ]
    }
   ],
   "source": [
    "#27\n",
    "meter = 100\n",
    "\n",
    "height = float(input(\"Enter your height in Centimeters: \"))\n",
    "weight = float(input(\"Enter your weight in Kg: \"))\n",
    " \n",
    "temp = height / meter\n",
    "bmi = weight / (temp*temp)\n",
    "\n",
    "print(\"Your Body Mass Index is: \",\"%d\"%(bmi))"
   ]
  },
  {
   "cell_type": "code",
   "execution_count": 4,
   "metadata": {},
   "outputs": [
    {
     "name": "stdout",
     "output_type": "stream",
     "text": [
      "Enter the air temperature in (degrees Celsius): 20\n",
      "Enter the wind speed (kilometer per hour): 8\n",
      "Your Wind Chill Index  20\n"
     ]
    }
   ],
   "source": [
    "#28\n",
    "windchill_offset= 13.12\n",
    "windchill_factor1 = 0.6215\n",
    "windchill_factor2 = -11.37   \n",
    "windchill_factor3 = 0.3965\n",
    "windchill_exp = 0.16\n",
    "\n",
    "temp = float(input(\"Enter the air temperature in (degrees Celsius): \"))\n",
    "speed = float(input(\"Enter the wind speed (kilometer per hour): \"))\n",
    "\n",
    "wci = windchill_offset + (windchill_factor1 * temp) + (windchill_factor2 * speed ** windchill_exp) + (windchill_factor3 * temp * speed ** windchill_exp)\n",
    "\n",
    "print(\"Your Wind Chill Index \",\"%d\"%(wci))"
   ]
  },
  {
   "cell_type": "code",
   "execution_count": 110,
   "metadata": {},
   "outputs": [
    {
     "name": "stdout",
     "output_type": "stream",
     "text": [
      "Enter the degree in Celsius. please\n",
      "100\n",
      "100.0 degree Celsius is equal to 212.0 degree Fahrenheit\n",
      "100.0 degree Celsius is equal to 373.1 degree Kelvin\n"
     ]
    }
   ],
   "source": [
    "#29\n",
    "print(\"Enter the degree in Celsius. please\")\n",
    "celsius = float(input())\n",
    "\n",
    "fahrenheit = (celsius * 1.8) + 32\n",
    "kelvin = (celsius + 273.15)\n",
    "print('%0.1f degree Celsius is equal to %0.1f degree Fahrenheit' %(celsius,fahrenheit))\n",
    "print('%0.1f degree Celsius is equal to %0.1f degree Kelvin' %(celsius,kelvin))"
   ]
  },
  {
   "cell_type": "code",
   "execution_count": 5,
   "metadata": {},
   "outputs": [
    {
     "name": "stdout",
     "output_type": "stream",
     "text": [
      "Input pressure in in kilopascals> 10000\n",
      "The pressure in pounds per square inch: 1450.38 psi\n",
      "The pressure in millimeter of mercury: 75006.17 mmHg\n",
      "Atmosphere pressure: 98.69 atm.\n"
     ]
    }
   ],
   "source": [
    "#30\n",
    "kpa = float(input(\"Input pressure in in kilopascals> \"))\n",
    "psi = kpa / 6.89475729\n",
    "mmhg = kpa * 760 / 101.325\n",
    "atm = kpa / 101.325\n",
    "print(\"The pressure in pounds per square inch: %.2f psi\"  % (psi))\n",
    "print(\"The pressure in millimeter of mercury: %.2f mmHg\" % (mmhg))\n",
    "print(\"Atmosphere pressure: %.2f atm.\" % (atm))"
   ]
  },
  {
   "cell_type": "code",
   "execution_count": 4,
   "metadata": {},
   "outputs": [
    {
     "name": "stdout",
     "output_type": "stream",
     "text": [
      "Input a four digit numbers: 1111111111\n",
      "The sum of digits in the number is 1111114\n"
     ]
    }
   ],
   "source": [
    "#31\n",
    "num = int(input(\"Input a four digit numbers: \"))\n",
    "x  = num //1000\n",
    "x1 = (num - x*1000)//100\n",
    "x2 = (num - x*1000 - x1*100)//10\n",
    "x3 = num - x*1000 - x1*100 - x2*10\n",
    "print(\"The sum of digits in the number is\", x+x1+x2+x3)"
   ]
  },
  {
   "cell_type": "code",
   "execution_count": 7,
   "metadata": {},
   "outputs": [
    {
     "name": "stdout",
     "output_type": "stream",
     "text": [
      "Input first number: 100\n",
      "Input second number: 20\n",
      "Input third number: 2000\n",
      "Numbers in sorted order:  20 100 2000\n"
     ]
    }
   ],
   "source": [
    "#32\n",
    "x = int(input(\"Input first number: \"))\n",
    "y = int(input(\"Input second number: \"))\n",
    "z = int(input(\"Input third number: \"))\n",
    "\n",
    "a1 = min(x, y, z)\n",
    "a3 = max(x, y, z)\n",
    "a2 = (x + y + z) - a1 - a3\n",
    "print(\"Numbers in sorted order: \", a1, a2, a3)"
   ]
  },
  {
   "cell_type": "code",
   "execution_count": 3,
   "metadata": {},
   "outputs": [
    {
     "name": "stdout",
     "output_type": "stream",
     "text": [
      "2\n",
      "The regular sum of bread is: 6.98\n",
      "The discount sum of bread is: 4.19\n",
      "The total sum of bread is: 2.79\n"
     ]
    }
   ],
   "source": [
    "#33\n",
    "hleb = 3.49\n",
    "dnevnoi_hleb = 3.49*0.4\n",
    "\n",
    "n = int(input())\n",
    "reg_sum = n*hleb\n",
    "skidka_sum = reg_sum*0.6\n",
    "result_sum = reg_sum - skidka_sum\n",
    "\n",
    "print(\"The regular sum of bread is: %.2f\" % reg_sum)\n",
    "\n",
    "print(\"The discount sum of bread is: %.2f\" % skidka_sum)\n",
    "\n",
    "print(\"The total sum of bread is: %.2f\" % result_sum)"
   ]
  }
 ],
 "metadata": {
  "kernelspec": {
   "display_name": "Python 3",
   "language": "python",
   "name": "python3"
  },
  "language_info": {
   "codemirror_mode": {
    "name": "ipython",
    "version": 3
   },
   "file_extension": ".py",
   "mimetype": "text/x-python",
   "name": "python",
   "nbconvert_exporter": "python",
   "pygments_lexer": "ipython3",
   "version": "3.7.4"
  }
 },
 "nbformat": 4,
 "nbformat_minor": 2
}
